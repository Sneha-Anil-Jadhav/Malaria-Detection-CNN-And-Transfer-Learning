{
  "nbformat": 4,
  "nbformat_minor": 0,
  "metadata": {
    "kernelspec": {
      "display_name": "Python 3",
      "language": "python",
      "name": "python3"
    },
    "language_info": {
      "codemirror_mode": {
        "name": "ipython",
        "version": 3
      },
      "file_extension": ".py",
      "mimetype": "text/x-python",
      "name": "python",
      "nbconvert_exporter": "python",
      "pygments_lexer": "ipython3",
      "version": "3.7.4"
    },
    "colab": {
      "name": "Malaria Detection CNN And TL.ipynb",
      "provenance": [],
      "collapsed_sections": []
    }
  },
  "cells": [
    {
      "cell_type": "markdown",
      "metadata": {
        "id": "LUoehXPiPTXk"
      },
      "source": [
        "## Creating CNN Using Scratch And Transfer Learning"
      ]
    },
    {
      "cell_type": "markdown",
      "metadata": {
        "id": "OMWpWAt-PTXp"
      },
      "source": [
        "Please download the dataset from the below url"
      ]
    },
    {
      "cell_type": "code",
      "metadata": {
        "colab": {
          "base_uri": "https://localhost:8080/"
        },
        "id": "Z4B0cAC_PgTy",
        "outputId": "20113863-5c94-4a37-cafb-76c6ea5cc5a4"
      },
      "source": [
        "from google.colab import drive\n",
        "drive.mount('/content/drive')"
      ],
      "execution_count": null,
      "outputs": [
        {
          "output_type": "stream",
          "name": "stdout",
          "text": [
            "Drive already mounted at /content/drive; to attempt to forcibly remount, call drive.mount(\"/content/drive\", force_remount=True).\n"
          ]
        }
      ]
    },
    {
      "cell_type": "code",
      "metadata": {
        "id": "yKrSA0OTPTXq"
      },
      "source": [
        "# import the libraries as shown below\n",
        "\n",
        "from tensorflow.keras.layers import Input, Lambda, Dense, Flatten,Conv2D\n",
        "from tensorflow.keras.models import Model\n",
        "from tensorflow.keras.applications.vgg19 import VGG19\n",
        "from tensorflow.keras.applications.resnet50 import preprocess_input\n",
        "from tensorflow.keras.preprocessing import image\n",
        "from tensorflow.keras.preprocessing.image import ImageDataGenerator,load_img\n",
        "from tensorflow.keras.models import Sequential\n",
        "import numpy as np\n",
        "from glob import glob\n",
        "import matplotlib.pyplot as plt"
      ],
      "execution_count": null,
      "outputs": []
    },
    {
      "cell_type": "code",
      "metadata": {
        "id": "2CDNprN7PTXt"
      },
      "source": [
        "# re-size all the images to this\n",
        "IMAGE_SIZE = [224, 224]\n",
        "\n",
        "train_path = '/content/drive/MyDrive/resume projects/Malaria-Detection-master/cell_images/Train'\n",
        "valid_path = '/content/drive/MyDrive/resume projects/Malaria-Detection-master/cell_images/Test'\n"
      ],
      "execution_count": null,
      "outputs": []
    },
    {
      "cell_type": "code",
      "metadata": {
        "id": "KfPNSO1PPTXu"
      },
      "source": [
        "# Import the Vgg 16 library as shown below and add preprocessing layer to the front of VGG\n",
        "# Here we will be using imagenet weights\n",
        "\n",
        "VGG19 = VGG19(input_shape=IMAGE_SIZE + [3], weights='imagenet', include_top=False)\n",
        "\n",
        "\n"
      ],
      "execution_count": null,
      "outputs": []
    },
    {
      "cell_type": "code",
      "metadata": {
        "id": "vnbCWELyPTXv"
      },
      "source": [
        "# don't train existing weights\n",
        "for layer in VGG19.layers:\n",
        "    layer.trainable = False"
      ],
      "execution_count": null,
      "outputs": []
    },
    {
      "cell_type": "code",
      "metadata": {
        "id": "tYPqucymPTXw"
      },
      "source": [
        "  # useful for getting number of output classes\n",
        "folders = glob('/content/drive/MyDrive/resume projects/Malaria-Detection-master/Dataset/Train/*')"
      ],
      "execution_count": null,
      "outputs": []
    },
    {
      "cell_type": "code",
      "metadata": {
        "colab": {
          "base_uri": "https://localhost:8080/"
        },
        "id": "xuAdkQzjPTXx",
        "outputId": "25b9a4a5-7f1f-4d6a-8642-f50ba71b00dd"
      },
      "source": [
        "folders"
      ],
      "execution_count": null,
      "outputs": [
        {
          "output_type": "execute_result",
          "data": {
            "text/plain": [
              "['/content/drive/MyDrive/resume projects/Malaria-Detection-master/Dataset/Train/Parasite',\n",
              " '/content/drive/MyDrive/resume projects/Malaria-Detection-master/Dataset/Train/Uninfected']"
            ]
          },
          "metadata": {},
          "execution_count": 7
        }
      ]
    },
    {
      "cell_type": "code",
      "metadata": {
        "id": "su9FddlUPTXz"
      },
      "source": [
        "# our layers - you can add more if you want\n",
        "x = Flatten()(VGG19.output)"
      ],
      "execution_count": null,
      "outputs": []
    },
    {
      "cell_type": "code",
      "metadata": {
        "id": "kr1PsdbWPTX0"
      },
      "source": [
        "prediction = Dense(len(folders), activation='softmax')(x)\n",
        "\n",
        "# create a model object\n",
        "model = Model(inputs=VGG19.input, outputs=prediction)"
      ],
      "execution_count": null,
      "outputs": []
    },
    {
      "cell_type": "code",
      "metadata": {
        "colab": {
          "base_uri": "https://localhost:8080/"
        },
        "id": "oNCVcHJJPTX1",
        "outputId": "e8a46605-6df0-4d39-ba04-d16c814f8f53"
      },
      "source": [
        "\n",
        "# view the structure of the model\n",
        "model.summary()\n"
      ],
      "execution_count": null,
      "outputs": [
        {
          "output_type": "stream",
          "name": "stdout",
          "text": [
            "Model: \"model\"\n",
            "_________________________________________________________________\n",
            "Layer (type)                 Output Shape              Param #   \n",
            "=================================================================\n",
            "input_1 (InputLayer)         [(None, 224, 224, 3)]     0         \n",
            "_________________________________________________________________\n",
            "block1_conv1 (Conv2D)        (None, 224, 224, 64)      1792      \n",
            "_________________________________________________________________\n",
            "block1_conv2 (Conv2D)        (None, 224, 224, 64)      36928     \n",
            "_________________________________________________________________\n",
            "block1_pool (MaxPooling2D)   (None, 112, 112, 64)      0         \n",
            "_________________________________________________________________\n",
            "block2_conv1 (Conv2D)        (None, 112, 112, 128)     73856     \n",
            "_________________________________________________________________\n",
            "block2_conv2 (Conv2D)        (None, 112, 112, 128)     147584    \n",
            "_________________________________________________________________\n",
            "block2_pool (MaxPooling2D)   (None, 56, 56, 128)       0         \n",
            "_________________________________________________________________\n",
            "block3_conv1 (Conv2D)        (None, 56, 56, 256)       295168    \n",
            "_________________________________________________________________\n",
            "block3_conv2 (Conv2D)        (None, 56, 56, 256)       590080    \n",
            "_________________________________________________________________\n",
            "block3_conv3 (Conv2D)        (None, 56, 56, 256)       590080    \n",
            "_________________________________________________________________\n",
            "block3_conv4 (Conv2D)        (None, 56, 56, 256)       590080    \n",
            "_________________________________________________________________\n",
            "block3_pool (MaxPooling2D)   (None, 28, 28, 256)       0         \n",
            "_________________________________________________________________\n",
            "block4_conv1 (Conv2D)        (None, 28, 28, 512)       1180160   \n",
            "_________________________________________________________________\n",
            "block4_conv2 (Conv2D)        (None, 28, 28, 512)       2359808   \n",
            "_________________________________________________________________\n",
            "block4_conv3 (Conv2D)        (None, 28, 28, 512)       2359808   \n",
            "_________________________________________________________________\n",
            "block4_conv4 (Conv2D)        (None, 28, 28, 512)       2359808   \n",
            "_________________________________________________________________\n",
            "block4_pool (MaxPooling2D)   (None, 14, 14, 512)       0         \n",
            "_________________________________________________________________\n",
            "block5_conv1 (Conv2D)        (None, 14, 14, 512)       2359808   \n",
            "_________________________________________________________________\n",
            "block5_conv2 (Conv2D)        (None, 14, 14, 512)       2359808   \n",
            "_________________________________________________________________\n",
            "block5_conv3 (Conv2D)        (None, 14, 14, 512)       2359808   \n",
            "_________________________________________________________________\n",
            "block5_conv4 (Conv2D)        (None, 14, 14, 512)       2359808   \n",
            "_________________________________________________________________\n",
            "block5_pool (MaxPooling2D)   (None, 7, 7, 512)         0         \n",
            "_________________________________________________________________\n",
            "flatten (Flatten)            (None, 25088)             0         \n",
            "_________________________________________________________________\n",
            "dense (Dense)                (None, 2)                 50178     \n",
            "=================================================================\n",
            "Total params: 20,074,562\n",
            "Trainable params: 50,178\n",
            "Non-trainable params: 20,024,384\n",
            "_________________________________________________________________\n"
          ]
        }
      ]
    },
    {
      "cell_type": "code",
      "metadata": {
        "id": "cgKep3_GPTX1"
      },
      "source": [
        "from tensorflow.keras.layers import MaxPooling2D"
      ],
      "execution_count": null,
      "outputs": []
    },
    {
      "cell_type": "code",
      "metadata": {
        "colab": {
          "base_uri": "https://localhost:8080/"
        },
        "id": "aSdc28qxPTX2",
        "outputId": "633428ff-d920-44ff-b80e-5fbcd6c4cf79"
      },
      "source": [
        "### Create Model from scratch using CNN\n",
        "model=Sequential()\n",
        "model.add(Conv2D(filters=16,kernel_size=2,padding=\"same\",activation=\"relu\",input_shape=(224,224,3)))\n",
        "model.add(MaxPooling2D(pool_size=2))\n",
        "model.add(Conv2D(filters=32,kernel_size=2,padding=\"same\",activation =\"relu\"))\n",
        "model.add(MaxPooling2D(pool_size=2))\n",
        "model.add(Conv2D(filters=64,kernel_size=2,padding=\"same\",activation=\"relu\"))\n",
        "model.add(MaxPooling2D(pool_size=2))\n",
        "model.add(Flatten())\n",
        "model.add(Dense(500,activation=\"relu\"))\n",
        "model.add(Dense(2,activation=\"softmax\"))\n",
        "model.summary()"
      ],
      "execution_count": null,
      "outputs": [
        {
          "output_type": "stream",
          "name": "stdout",
          "text": [
            "Model: \"sequential\"\n",
            "_________________________________________________________________\n",
            "Layer (type)                 Output Shape              Param #   \n",
            "=================================================================\n",
            "conv2d (Conv2D)              (None, 224, 224, 16)      208       \n",
            "_________________________________________________________________\n",
            "max_pooling2d (MaxPooling2D) (None, 112, 112, 16)      0         \n",
            "_________________________________________________________________\n",
            "conv2d_1 (Conv2D)            (None, 112, 112, 32)      2080      \n",
            "_________________________________________________________________\n",
            "max_pooling2d_1 (MaxPooling2 (None, 56, 56, 32)        0         \n",
            "_________________________________________________________________\n",
            "conv2d_2 (Conv2D)            (None, 56, 56, 64)        8256      \n",
            "_________________________________________________________________\n",
            "max_pooling2d_2 (MaxPooling2 (None, 28, 28, 64)        0         \n",
            "_________________________________________________________________\n",
            "flatten_1 (Flatten)          (None, 50176)             0         \n",
            "_________________________________________________________________\n",
            "dense_1 (Dense)              (None, 500)               25088500  \n",
            "_________________________________________________________________\n",
            "dense_2 (Dense)              (None, 2)                 1002      \n",
            "=================================================================\n",
            "Total params: 25,100,046\n",
            "Trainable params: 25,100,046\n",
            "Non-trainable params: 0\n",
            "_________________________________________________________________\n"
          ]
        }
      ]
    },
    {
      "cell_type": "code",
      "metadata": {
        "id": "HJHZgwu4PTX2"
      },
      "source": [
        "# tell the model what cost and optimization method to use\n",
        "model.compile(\n",
        "  loss='categorical_crossentropy',\n",
        "  optimizer='adam',\n",
        "  metrics=['accuracy']\n",
        ")\n"
      ],
      "execution_count": null,
      "outputs": []
    },
    {
      "cell_type": "code",
      "metadata": {
        "id": "YiCwakAKPTX3"
      },
      "source": [
        "# Use the Image Data Generator to import the images from the dataset\n",
        "from tensorflow.keras.preprocessing.image import ImageDataGenerator\n",
        "\n",
        "train_datagen = ImageDataGenerator(rescale = 1./255,\n",
        "                                   shear_range = 0.2,\n",
        "                                   zoom_range = 0.2,\n",
        "                                   horizontal_flip = True)\n",
        "\n",
        "test_datagen = ImageDataGenerator(rescale = 1./255)"
      ],
      "execution_count": null,
      "outputs": []
    },
    {
      "cell_type": "code",
      "metadata": {
        "colab": {
          "base_uri": "https://localhost:8080/"
        },
        "id": "Je-sA2ZkPTX3",
        "outputId": "1fe53770-316f-4a3e-9845-6d0e2933c4ff"
      },
      "source": [
        "# Make sure you provide the same target size as initialied for the image size\n",
        "training_set = train_datagen.flow_from_directory('/content/drive/MyDrive/resume projects/Malaria-Detection-master/Dataset/Train',\n",
        "                                                 target_size = (224, 224),\n",
        "                                                 batch_size = 32,\n",
        "                                                 class_mode = 'categorical')"
      ],
      "execution_count": null,
      "outputs": [
        {
          "output_type": "stream",
          "name": "stdout",
          "text": [
            "Found 416 images belonging to 2 classes.\n"
          ]
        }
      ]
    },
    {
      "cell_type": "code",
      "metadata": {
        "colab": {
          "base_uri": "https://localhost:8080/"
        },
        "id": "hAWKlID-PTX4",
        "outputId": "67cf0788-6967-449f-f8a6-f0907dc75cf2"
      },
      "source": [
        "training_set"
      ],
      "execution_count": null,
      "outputs": [
        {
          "output_type": "execute_result",
          "data": {
            "text/plain": [
              "<keras.preprocessing.image.DirectoryIterator at 0x7f58f378f290>"
            ]
          },
          "metadata": {},
          "execution_count": 16
        }
      ]
    },
    {
      "cell_type": "code",
      "metadata": {
        "colab": {
          "base_uri": "https://localhost:8080/"
        },
        "id": "KUZVxLXMPTX5",
        "outputId": "d076be7a-10bb-42c1-f0ff-58601f341fb9"
      },
      "source": [
        "test_set = test_datagen.flow_from_directory('/content/drive/MyDrive/resume projects/Malaria-Detection-master/Dataset/Test',\n",
        "                                            target_size = (224, 224),\n",
        "                                            batch_size = 32,\n",
        "                                            class_mode = 'categorical')"
      ],
      "execution_count": null,
      "outputs": [
        {
          "output_type": "stream",
          "name": "stdout",
          "text": [
            "Found 134 images belonging to 2 classes.\n"
          ]
        }
      ]
    },
    {
      "cell_type": "code",
      "metadata": {
        "scrolled": true,
        "colab": {
          "base_uri": "https://localhost:8080/"
        },
        "id": "TMkIvoSzPTX5",
        "outputId": "f39446ad-3126-40b3-ab7b-ae6562e3f34c"
      },
      "source": [
        "# fit the model\n",
        "# Run the cell. It will take some time to execute\n",
        "r = model.fit_generator(\n",
        "  training_set,\n",
        "  validation_data=test_set,\n",
        "  epochs=50,\n",
        "  steps_per_epoch=len(training_set),\n",
        "  validation_steps=len(test_set)\n",
        ")"
      ],
      "execution_count": null,
      "outputs": [
        {
          "output_type": "stream",
          "name": "stderr",
          "text": [
            "/usr/local/lib/python3.7/dist-packages/keras/engine/training.py:1972: UserWarning: `Model.fit_generator` is deprecated and will be removed in a future version. Please use `Model.fit`, which supports generators.\n",
            "  warnings.warn('`Model.fit_generator` is deprecated and '\n"
          ]
        },
        {
          "output_type": "stream",
          "name": "stdout",
          "text": [
            "Epoch 1/50\n",
            "13/13 [==============================] - 22s 2s/step - loss: 2.6698 - accuracy: 0.4856 - val_loss: 0.6392 - val_accuracy: 0.6791\n",
            "Epoch 2/50\n",
            "13/13 [==============================] - 21s 2s/step - loss: 0.7008 - accuracy: 0.5288 - val_loss: 0.7065 - val_accuracy: 0.3731\n",
            "Epoch 3/50\n",
            "13/13 [==============================] - 21s 2s/step - loss: 0.6882 - accuracy: 0.5697 - val_loss: 0.6936 - val_accuracy: 0.4925\n",
            "Epoch 4/50\n",
            "13/13 [==============================] - 21s 2s/step - loss: 0.6854 - accuracy: 0.5601 - val_loss: 0.6977 - val_accuracy: 0.4478\n",
            "Epoch 5/50\n",
            "13/13 [==============================] - 21s 2s/step - loss: 0.6805 - accuracy: 0.5745 - val_loss: 0.7075 - val_accuracy: 0.4328\n",
            "Epoch 6/50\n",
            "13/13 [==============================] - 21s 2s/step - loss: 0.6769 - accuracy: 0.5601 - val_loss: 0.6668 - val_accuracy: 0.6269\n",
            "Epoch 7/50\n",
            "13/13 [==============================] - 21s 2s/step - loss: 0.6379 - accuracy: 0.6490 - val_loss: 0.7875 - val_accuracy: 0.3955\n",
            "Epoch 8/50\n",
            "13/13 [==============================] - 21s 2s/step - loss: 0.6331 - accuracy: 0.6490 - val_loss: 0.7450 - val_accuracy: 0.4403\n",
            "Epoch 9/50\n",
            "13/13 [==============================] - 22s 2s/step - loss: 0.5842 - accuracy: 0.6755 - val_loss: 0.7511 - val_accuracy: 0.4179\n",
            "Epoch 10/50\n",
            "13/13 [==============================] - 21s 2s/step - loss: 0.5412 - accuracy: 0.7236 - val_loss: 0.6686 - val_accuracy: 0.6045\n",
            "Epoch 11/50\n",
            "13/13 [==============================] - 21s 2s/step - loss: 0.5469 - accuracy: 0.7067 - val_loss: 0.9763 - val_accuracy: 0.4328\n",
            "Epoch 12/50\n",
            "13/13 [==============================] - 21s 2s/step - loss: 0.5620 - accuracy: 0.6947 - val_loss: 0.7927 - val_accuracy: 0.4179\n",
            "Epoch 13/50\n",
            "13/13 [==============================] - 21s 2s/step - loss: 0.5015 - accuracy: 0.7332 - val_loss: 0.8188 - val_accuracy: 0.4328\n",
            "Epoch 14/50\n",
            "13/13 [==============================] - 21s 2s/step - loss: 0.5491 - accuracy: 0.7115 - val_loss: 0.8596 - val_accuracy: 0.4104\n",
            "Epoch 15/50\n",
            "13/13 [==============================] - 21s 2s/step - loss: 0.5663 - accuracy: 0.6995 - val_loss: 0.6446 - val_accuracy: 0.6119\n",
            "Epoch 16/50\n",
            "13/13 [==============================] - 21s 2s/step - loss: 0.4650 - accuracy: 0.7837 - val_loss: 0.7690 - val_accuracy: 0.4776\n",
            "Epoch 17/50\n",
            "13/13 [==============================] - 21s 2s/step - loss: 0.4804 - accuracy: 0.7428 - val_loss: 1.1106 - val_accuracy: 0.3806\n",
            "Epoch 18/50\n",
            "13/13 [==============================] - 21s 2s/step - loss: 0.5671 - accuracy: 0.6899 - val_loss: 0.6218 - val_accuracy: 0.6716\n",
            "Epoch 19/50\n",
            "13/13 [==============================] - 21s 2s/step - loss: 0.5347 - accuracy: 0.7356 - val_loss: 0.8178 - val_accuracy: 0.4030\n",
            "Epoch 20/50\n",
            "13/13 [==============================] - 21s 2s/step - loss: 0.4561 - accuracy: 0.7548 - val_loss: 0.7838 - val_accuracy: 0.4552\n",
            "Epoch 21/50\n",
            "13/13 [==============================] - 21s 2s/step - loss: 0.4769 - accuracy: 0.7764 - val_loss: 0.6565 - val_accuracy: 0.5896\n",
            "Epoch 22/50\n",
            "13/13 [==============================] - 21s 2s/step - loss: 0.4471 - accuracy: 0.7812 - val_loss: 0.9130 - val_accuracy: 0.4179\n",
            "Epoch 23/50\n",
            "13/13 [==============================] - 21s 2s/step - loss: 0.4141 - accuracy: 0.7909 - val_loss: 0.8206 - val_accuracy: 0.4627\n",
            "Epoch 24/50\n",
            "13/13 [==============================] - 21s 2s/step - loss: 0.3896 - accuracy: 0.8317 - val_loss: 1.0636 - val_accuracy: 0.4254\n",
            "Epoch 25/50\n",
            "13/13 [==============================] - 21s 2s/step - loss: 0.4071 - accuracy: 0.8077 - val_loss: 0.8576 - val_accuracy: 0.4851\n",
            "Epoch 26/50\n",
            "13/13 [==============================] - 21s 2s/step - loss: 0.4889 - accuracy: 0.7380 - val_loss: 0.7298 - val_accuracy: 0.5075\n",
            "Epoch 27/50\n",
            "13/13 [==============================] - 21s 2s/step - loss: 0.4826 - accuracy: 0.7933 - val_loss: 0.7276 - val_accuracy: 0.5299\n",
            "Epoch 28/50\n",
            "13/13 [==============================] - 21s 2s/step - loss: 0.3845 - accuracy: 0.8341 - val_loss: 1.0860 - val_accuracy: 0.4478\n",
            "Epoch 29/50\n",
            "13/13 [==============================] - 21s 2s/step - loss: 0.3831 - accuracy: 0.8221 - val_loss: 0.6866 - val_accuracy: 0.5896\n",
            "Epoch 30/50\n",
            "13/13 [==============================] - 21s 2s/step - loss: 0.3573 - accuracy: 0.8582 - val_loss: 0.7055 - val_accuracy: 0.5746\n",
            "Epoch 31/50\n",
            "13/13 [==============================] - 21s 2s/step - loss: 0.3082 - accuracy: 0.8822 - val_loss: 0.8441 - val_accuracy: 0.5821\n",
            "Epoch 32/50\n",
            "13/13 [==============================] - 21s 2s/step - loss: 0.2642 - accuracy: 0.8966 - val_loss: 0.8017 - val_accuracy: 0.5896\n",
            "Epoch 33/50\n",
            "13/13 [==============================] - 21s 2s/step - loss: 0.2637 - accuracy: 0.9014 - val_loss: 0.8714 - val_accuracy: 0.5896\n",
            "Epoch 34/50\n",
            "13/13 [==============================] - 22s 2s/step - loss: 0.2589 - accuracy: 0.8990 - val_loss: 0.7709 - val_accuracy: 0.6567\n",
            "Epoch 35/50\n",
            "13/13 [==============================] - 22s 2s/step - loss: 0.2222 - accuracy: 0.9111 - val_loss: 0.7885 - val_accuracy: 0.6343\n",
            "Epoch 36/50\n",
            "13/13 [==============================] - 22s 2s/step - loss: 0.2255 - accuracy: 0.9159 - val_loss: 0.6807 - val_accuracy: 0.6791\n",
            "Epoch 37/50\n",
            "13/13 [==============================] - 21s 2s/step - loss: 0.2058 - accuracy: 0.9231 - val_loss: 0.7231 - val_accuracy: 0.6418\n",
            "Epoch 38/50\n",
            "13/13 [==============================] - 22s 2s/step - loss: 0.2014 - accuracy: 0.9495 - val_loss: 0.4547 - val_accuracy: 0.7537\n",
            "Epoch 39/50\n",
            "13/13 [==============================] - 21s 2s/step - loss: 0.1751 - accuracy: 0.9375 - val_loss: 0.4256 - val_accuracy: 0.7985\n",
            "Epoch 40/50\n",
            "13/13 [==============================] - 21s 2s/step - loss: 0.1620 - accuracy: 0.9567 - val_loss: 0.6035 - val_accuracy: 0.7015\n",
            "Epoch 41/50\n",
            "13/13 [==============================] - 21s 2s/step - loss: 0.2076 - accuracy: 0.9375 - val_loss: 0.6822 - val_accuracy: 0.6493\n",
            "Epoch 42/50\n",
            "13/13 [==============================] - 21s 2s/step - loss: 0.1684 - accuracy: 0.9375 - val_loss: 0.8005 - val_accuracy: 0.7612\n",
            "Epoch 43/50\n",
            "13/13 [==============================] - 21s 2s/step - loss: 0.1567 - accuracy: 0.9447 - val_loss: 0.4218 - val_accuracy: 0.7687\n",
            "Epoch 44/50\n",
            "13/13 [==============================] - 21s 2s/step - loss: 0.1213 - accuracy: 0.9639 - val_loss: 0.3839 - val_accuracy: 0.8358\n",
            "Epoch 45/50\n",
            "13/13 [==============================] - 21s 2s/step - loss: 0.1008 - accuracy: 0.9736 - val_loss: 0.4052 - val_accuracy: 0.8284\n",
            "Epoch 46/50\n",
            "13/13 [==============================] - 21s 2s/step - loss: 0.1121 - accuracy: 0.9615 - val_loss: 0.4054 - val_accuracy: 0.8209\n",
            "Epoch 47/50\n",
            "13/13 [==============================] - 21s 2s/step - loss: 0.1168 - accuracy: 0.9615 - val_loss: 0.5241 - val_accuracy: 0.8433\n",
            "Epoch 48/50\n",
            "13/13 [==============================] - 21s 2s/step - loss: 0.1282 - accuracy: 0.9615 - val_loss: 0.3929 - val_accuracy: 0.7985\n",
            "Epoch 49/50\n",
            "13/13 [==============================] - 21s 2s/step - loss: 0.0970 - accuracy: 0.9760 - val_loss: 0.4575 - val_accuracy: 0.7836\n",
            "Epoch 50/50\n",
            "13/13 [==============================] - 22s 2s/step - loss: 0.0919 - accuracy: 0.9784 - val_loss: 0.4579 - val_accuracy: 0.8284\n"
          ]
        }
      ]
    },
    {
      "cell_type": "code",
      "metadata": {
        "id": "iUUqwu0jPTX6"
      },
      "source": [
        ""
      ],
      "execution_count": null,
      "outputs": []
    },
    {
      "cell_type": "code",
      "metadata": {
        "colab": {
          "base_uri": "https://localhost:8080/",
          "height": 532
        },
        "id": "0cRG9i_GPTX6",
        "outputId": "d5e55262-50cd-485d-cd78-b65d57d2e2e4"
      },
      "source": [
        "# plot the loss\n",
        "plt.plot(r.history['loss'], label='train loss')\n",
        "plt.plot(r.history['val_loss'], label='val loss')\n",
        "plt.legend()\n",
        "plt.show()\n",
        "plt.savefig('LossVal_loss')\n",
        "\n",
        "# plot the accuracy\n",
        "plt.plot(r.history['accuracy'], label='train acc')\n",
        "plt.plot(r.history['val_accuracy'], label='val acc')\n",
        "plt.legend()\n",
        "plt.show()\n",
        "plt.savefig('AccVal_acc')"
      ],
      "execution_count": null,
      "outputs": [
        {
          "output_type": "display_data",
          "data": {
            "image/png": "[encoded data removed]",
            "text/plain": [
              "<Figure size 432x288 with 1 Axes>"
            ]
          },
          "metadata": {
            "needs_background": "light"
          }
        },
        {
          "output_type": "display_data",
          "data": {
            "image/png": "[encoded data removed]",
            "text/plain": [
              "<Figure size 432x288 with 1 Axes>"
            ]
          },
          "metadata": {
            "needs_background": "light"
          }
        },
        {
          "output_type": "display_data",
          "data": {
            "text/plain": [
              "<Figure size 432x288 with 0 Axes>"
            ]
          },
          "metadata": {}
        }
      ]
    },
    {
      "cell_type": "code",
      "metadata": {
        "id": "C3_VNzxkPTX7"
      },
      "source": [
        "# save it as a h5 file\n",
        "\n",
        "\n",
        "from tensorflow.keras.models import load_model\n",
        "\n",
        "model.save('/content/drive/MyDrive/resume projects/Malaria-Detection-master/model_vgg19.h5')"
      ],
      "execution_count": null,
      "outputs": []
    },
    {
      "cell_type": "code",
      "metadata": {
        "id": "mVlpBwf7PTX8"
      },
      "source": [
        "\n",
        "y_pred = model.predict(test_set)\n"
      ],
      "execution_count": null,
      "outputs": []
    },
    {
      "cell_type": "code",
      "metadata": {
        "colab": {
          "base_uri": "https://localhost:8080/"
        },
        "id": "ojU_N2_9PTX8",
        "outputId": "4d890a07-3d1f-4ea2-b64c-c99cc4b12a0f"
      },
      "source": [
        "y_pred"
      ],
      "execution_count": null,
      "outputs": [
        {
          "output_type": "execute_result",
          "data": {
            "text/plain": [
              "array([[2.43242815e-01, 7.56757200e-01],\n",
              "       [9.99170899e-01, 8.29135999e-04],\n",
              "       [7.30994493e-02, 9.26900625e-01],\n",
              "       [8.03595334e-02, 9.19640481e-01],\n",
              "       [6.60315156e-01, 3.39684814e-01],\n",
              "       [8.96303177e-01, 1.03696808e-01],\n",
              "       [1.46416938e-02, 9.85358357e-01],\n",
              "       [8.34666789e-01, 1.65333226e-01],\n",
              "       [5.26698649e-01, 4.73301321e-01],\n",
              "       [6.02055062e-03, 9.93979454e-01],\n",
              "       [5.59509322e-02, 9.44049120e-01],\n",
              "       [6.80142045e-01, 3.19857985e-01],\n",
              "       [9.73349273e-01, 2.66507324e-02],\n",
              "       [2.98226122e-02, 9.70177412e-01],\n",
              "       [1.81780998e-02, 9.81821954e-01],\n",
              "       [9.99182045e-01, 8.17987428e-04],\n",
              "       [9.61096823e-01, 3.89031097e-02],\n",
              "       [2.01437235e-01, 7.98562765e-01],\n",
              "       [9.99993563e-01, 6.41202632e-06],\n",
              "       [7.99892023e-02, 9.20010805e-01],\n",
              "       [7.54232466e-01, 2.45767534e-01],\n",
              "       [2.71589421e-02, 9.72841024e-01],\n",
              "       [7.45567083e-01, 2.54432857e-01],\n",
              "       [9.98223722e-01, 1.77627313e-03],\n",
              "       [1.14332847e-02, 9.88566697e-01],\n",
              "       [7.84153864e-03, 9.92158532e-01],\n",
              "       [1.10930279e-02, 9.88906980e-01],\n",
              "       [9.88611639e-01, 1.13884090e-02],\n",
              "       [2.39559375e-02, 9.76044118e-01],\n",
              "       [9.86869395e-01, 1.31306360e-02],\n",
              "       [7.83897340e-01, 2.16102585e-01],\n",
              "       [1.32888883e-01, 8.67111087e-01],\n",
              "       [1.88456416e-01, 8.11543584e-01],\n",
              "       [9.77207005e-01, 2.27929801e-02],\n",
              "       [2.11591110e-01, 7.88408935e-01],\n",
              "       [5.81494579e-03, 9.94185030e-01],\n",
              "       [2.02386593e-03, 9.97976124e-01],\n",
              "       [2.44169794e-02, 9.75583017e-01],\n",
              "       [9.91493583e-01, 8.50634649e-03],\n",
              "       [4.73483605e-03, 9.95265126e-01],\n",
              "       [9.99987483e-01, 1.25132665e-05],\n",
              "       [8.86971831e-01, 1.13028198e-01],\n",
              "       [7.03606308e-01, 2.96393782e-01],\n",
              "       [5.87640256e-02, 9.41235900e-01],\n",
              "       [9.23616469e-01, 7.63835609e-02],\n",
              "       [9.47638750e-01, 5.23613133e-02],\n",
              "       [2.00047134e-03, 9.97999489e-01],\n",
              "       [2.01476142e-02, 9.79852319e-01],\n",
              "       [9.94306147e-01, 5.69388177e-03],\n",
              "       [9.99998450e-01, 1.57723809e-06],\n",
              "       [6.12699747e-01, 3.87300253e-01],\n",
              "       [1.80214904e-02, 9.81978476e-01],\n",
              "       [8.08247209e-01, 1.91752777e-01],\n",
              "       [9.94190335e-01, 5.80972712e-03],\n",
              "       [3.07221472e-01, 6.92778528e-01],\n",
              "       [9.99764144e-01, 2.35848478e-04],\n",
              "       [9.22347791e-03, 9.90776598e-01],\n",
              "       [6.31417096e-01, 3.68582875e-01],\n",
              "       [1.39423767e-02, 9.86057580e-01],\n",
              "       [1.81465134e-01, 8.18534851e-01],\n",
              "       [9.51729774e-01, 4.82702218e-02],\n",
              "       [3.26107830e-01, 6.73892200e-01],\n",
              "       [2.32213712e-03, 9.97677863e-01],\n",
              "       [9.90407288e-01, 9.59276780e-03],\n",
              "       [9.98342156e-01, 1.65784580e-03],\n",
              "       [1.47303445e-02, 9.85269725e-01],\n",
              "       [9.40142095e-01, 5.98578975e-02],\n",
              "       [8.19517732e-01, 1.80482283e-01],\n",
              "       [7.59029761e-03, 9.92409706e-01],\n",
              "       [9.62957323e-01, 3.70426811e-02],\n",
              "       [9.93920445e-01, 6.07954757e-03],\n",
              "       [6.63156748e-01, 3.36843193e-01],\n",
              "       [8.46399069e-01, 1.53600916e-01],\n",
              "       [9.99997854e-01, 2.12436089e-06],\n",
              "       [1.51679348e-02, 9.84831989e-01],\n",
              "       [1.52036265e-01, 8.47963691e-01],\n",
              "       [3.26184660e-01, 6.73815310e-01],\n",
              "       [9.99253690e-01, 7.46236590e-04],\n",
              "       [1.41550275e-03, 9.98584509e-01],\n",
              "       [1.79781735e-01, 8.20218325e-01],\n",
              "       [9.99915719e-01, 8.42603768e-05],\n",
              "       [1.34513695e-02, 9.86548603e-01],\n",
              "       [5.55014133e-01, 4.44985837e-01],\n",
              "       [9.96720374e-01, 3.27958772e-03],\n",
              "       [4.33769554e-01, 5.66230476e-01],\n",
              "       [7.40939498e-01, 2.59060472e-01],\n",
              "       [3.37109342e-02, 9.66289103e-01],\n",
              "       [1.15584515e-01, 8.84415448e-01],\n",
              "       [5.01817055e-02, 9.49818313e-01],\n",
              "       [2.61464417e-01, 7.38535583e-01],\n",
              "       [2.47522127e-02, 9.75247741e-01],\n",
              "       [9.59114134e-01, 4.08858731e-02],\n",
              "       [9.80615675e-01, 1.93843637e-02],\n",
              "       [9.99579489e-01, 4.20482596e-04],\n",
              "       [6.35105491e-01, 3.64894480e-01],\n",
              "       [9.99117553e-01, 8.82441935e-04],\n",
              "       [9.61662292e-01, 3.83377410e-02],\n",
              "       [9.99604046e-01, 3.95977404e-04],\n",
              "       [9.99974728e-01, 2.53307426e-05],\n",
              "       [9.93706048e-01, 6.29390590e-03],\n",
              "       [9.94564533e-01, 5.43549238e-03],\n",
              "       [8.62816215e-01, 1.37183771e-01],\n",
              "       [6.37467682e-01, 3.62532318e-01],\n",
              "       [1.28819738e-02, 9.87118006e-01],\n",
              "       [9.33180377e-03, 9.90668237e-01],\n",
              "       [9.99964833e-01, 3.52074385e-05],\n",
              "       [8.69792819e-01, 1.30207226e-01],\n",
              "       [9.99342740e-01, 6.57215365e-04],\n",
              "       [1.19023710e-01, 8.80976319e-01],\n",
              "       [2.07610816e-01, 7.92389154e-01],\n",
              "       [9.91127729e-01, 8.87227710e-03],\n",
              "       [5.52197576e-01, 4.47802395e-01],\n",
              "       [9.28728163e-01, 7.12718815e-02],\n",
              "       [1.93499744e-01, 8.06500196e-01],\n",
              "       [3.76935273e-01, 6.23064697e-01],\n",
              "       [9.96836185e-01, 3.16374796e-03],\n",
              "       [1.96030792e-02, 9.80396867e-01],\n",
              "       [7.28727644e-03, 9.92712677e-01],\n",
              "       [1.23432139e-02, 9.87656832e-01],\n",
              "       [4.05786652e-03, 9.95942056e-01],\n",
              "       [8.65253434e-03, 9.91347492e-01],\n",
              "       [9.65406716e-01, 3.45933177e-02],\n",
              "       [9.75874364e-01, 2.41257139e-02],\n",
              "       [9.96701658e-01, 3.29830637e-03],\n",
              "       [5.96371055e-01, 4.03628945e-01],\n",
              "       [9.99930739e-01, 6.92881440e-05],\n",
              "       [2.53131747e-01, 7.46868312e-01],\n",
              "       [9.81422663e-01, 1.85773075e-02],\n",
              "       [1.37127832e-01, 8.62872183e-01],\n",
              "       [1.58642430e-03, 9.98413563e-01],\n",
              "       [6.35409579e-02, 9.36459005e-01],\n",
              "       [9.14905369e-01, 8.50946233e-02],\n",
              "       [9.65843976e-01, 3.41560207e-02],\n",
              "       [1.35013819e-01, 8.64986122e-01]], dtype=float32)"
            ]
          },
          "metadata": {},
          "execution_count": 22
        }
      ]
    },
    {
      "cell_type": "code",
      "metadata": {
        "id": "z7z97ehLPTX9"
      },
      "source": [
        "import numpy as np\n",
        "y_pred = np.argmax(y_pred, axis=1)"
      ],
      "execution_count": null,
      "outputs": []
    },
    {
      "cell_type": "code",
      "metadata": {
        "colab": {
          "base_uri": "https://localhost:8080/"
        },
        "id": "QslKABhaPTX-",
        "outputId": "a65a8eff-f50a-494c-a6f5-2972c5f521cc"
      },
      "source": [
        "y_pred"
      ],
      "execution_count": null,
      "outputs": [
        {
          "output_type": "execute_result",
          "data": {
            "text/plain": [
              "array([1, 0, 1, 1, 0, 0, 1, 0, 0, 1, 1, 0, 0, 1, 1, 0, 0, 1, 0, 1, 0, 1,\n",
              "       0, 0, 1, 1, 1, 0, 1, 0, 0, 1, 1, 0, 1, 1, 1, 1, 0, 1, 0, 0, 0, 1,\n",
              "       0, 0, 1, 1, 0, 0, 0, 1, 0, 0, 1, 0, 1, 0, 1, 1, 0, 1, 1, 0, 0, 1,\n",
              "       0, 0, 1, 0, 0, 0, 0, 0, 1, 1, 1, 0, 1, 1, 0, 1, 0, 0, 1, 0, 1, 1,\n",
              "       1, 1, 1, 0, 0, 0, 0, 0, 0, 0, 0, 0, 0, 0, 0, 1, 1, 0, 0, 0, 1, 1,\n",
              "       0, 0, 0, 1, 1, 0, 1, 1, 1, 1, 1, 0, 0, 0, 0, 0, 1, 0, 1, 1, 1, 0,\n",
              "       0, 1])"
            ]
          },
          "metadata": {},
          "execution_count": 24
        }
      ]
    },
    {
      "cell_type": "code",
      "metadata": {
        "id": "rOzvTz44PTX-"
      },
      "source": [
        "from tensorflow.keras.models import load_model\n",
        "from tensorflow.keras.preprocessing import image"
      ],
      "execution_count": null,
      "outputs": []
    },
    {
      "cell_type": "code",
      "metadata": {
        "id": "CXnwodmvPTX_"
      },
      "source": [
        "model=load_model('/content/drive/MyDrive/resume projects/Malaria-Detection-master/model_vgg19.h5')"
      ],
      "execution_count": null,
      "outputs": []
    },
    {
      "cell_type": "code",
      "metadata": {
        "id": "-qk3dcr1PTX_"
      },
      "source": [
        ""
      ],
      "execution_count": null,
      "outputs": []
    },
    {
      "cell_type": "code",
      "metadata": {
        "id": "eEEbfucJPTX_"
      },
      "source": [
        "img=image.load_img('/content/drive/MyDrive/resume projects/Malaria-Detection-master/Dataset/Test/Uninfected/2.png',target_size=(224,224))\n",
        "\n"
      ],
      "execution_count": null,
      "outputs": []
    },
    {
      "cell_type": "code",
      "metadata": {
        "id": "Rqfig0jtPTX_",
        "colab": {
          "base_uri": "https://localhost:8080/"
        },
        "outputId": "84adaecb-cf84-4320-d9bd-06615c0d7ee3"
      },
      "source": [
        "x=image.img_to_array(img)\n",
        "x"
      ],
      "execution_count": null,
      "outputs": [
        {
          "output_type": "execute_result",
          "data": {
            "text/plain": [
              "array([[[0., 0., 0.],\n",
              "        [0., 0., 0.],\n",
              "        [0., 0., 0.],\n",
              "        ...,\n",
              "        [0., 0., 0.],\n",
              "        [0., 0., 0.],\n",
              "        [0., 0., 0.]],\n",
              "\n",
              "       [[0., 0., 0.],\n",
              "        [0., 0., 0.],\n",
              "        [0., 0., 0.],\n",
              "        ...,\n",
              "        [0., 0., 0.],\n",
              "        [0., 0., 0.],\n",
              "        [0., 0., 0.]],\n",
              "\n",
              "       [[0., 0., 0.],\n",
              "        [0., 0., 0.],\n",
              "        [0., 0., 0.],\n",
              "        ...,\n",
              "        [0., 0., 0.],\n",
              "        [0., 0., 0.],\n",
              "        [0., 0., 0.]],\n",
              "\n",
              "       ...,\n",
              "\n",
              "       [[0., 0., 0.],\n",
              "        [0., 0., 0.],\n",
              "        [0., 0., 0.],\n",
              "        ...,\n",
              "        [0., 0., 0.],\n",
              "        [0., 0., 0.],\n",
              "        [0., 0., 0.]],\n",
              "\n",
              "       [[0., 0., 0.],\n",
              "        [0., 0., 0.],\n",
              "        [0., 0., 0.],\n",
              "        ...,\n",
              "        [0., 0., 0.],\n",
              "        [0., 0., 0.],\n",
              "        [0., 0., 0.]],\n",
              "\n",
              "       [[0., 0., 0.],\n",
              "        [0., 0., 0.],\n",
              "        [0., 0., 0.],\n",
              "        ...,\n",
              "        [0., 0., 0.],\n",
              "        [0., 0., 0.],\n",
              "        [0., 0., 0.]]], dtype=float32)"
            ]
          },
          "metadata": {},
          "execution_count": 28
        }
      ]
    },
    {
      "cell_type": "code",
      "metadata": {
        "id": "Ji0B4Ia4PTYA",
        "colab": {
          "base_uri": "https://localhost:8080/"
        },
        "outputId": "1fbcbdcf-e8a3-4ccd-b5ad-19d2335f5c0d"
      },
      "source": [
        "x.shape"
      ],
      "execution_count": null,
      "outputs": [
        {
          "output_type": "execute_result",
          "data": {
            "text/plain": [
              "(224, 224, 3)"
            ]
          },
          "metadata": {},
          "execution_count": 29
        }
      ]
    },
    {
      "cell_type": "code",
      "metadata": {
        "id": "YljxBS_NPTYA"
      },
      "source": [
        "x=x/255"
      ],
      "execution_count": null,
      "outputs": []
    },
    {
      "cell_type": "code",
      "metadata": {
        "id": "GKdnzJA1PTYA",
        "colab": {
          "base_uri": "https://localhost:8080/"
        },
        "outputId": "e5f28dfc-c407-4fdd-a81f-829b0e70ca24"
      },
      "source": [
        "x=np.expand_dims(x,axis=0)\n",
        "img_data=preprocess_input(x)\n",
        "img_data.shape"
      ],
      "execution_count": null,
      "outputs": [
        {
          "output_type": "execute_result",
          "data": {
            "text/plain": [
              "(1, 224, 224, 3)"
            ]
          },
          "metadata": {},
          "execution_count": 31
        }
      ]
    },
    {
      "cell_type": "code",
      "metadata": {
        "id": "ojwr0NxzPTYA",
        "colab": {
          "base_uri": "https://localhost:8080/"
        },
        "outputId": "67c21c2f-bf02-4f91-a4e4-a118dcbf2ddc"
      },
      "source": [
        "model.predict(img_data)"
      ],
      "execution_count": null,
      "outputs": [
        {
          "output_type": "execute_result",
          "data": {
            "text/plain": [
              "array([[0., 1.]], dtype=float32)"
            ]
          },
          "metadata": {},
          "execution_count": 32
        }
      ]
    },
    {
      "cell_type": "code",
      "metadata": {
        "id": "qpHFOYG0PTYB"
      },
      "source": [
        "a=np.argmax(model.predict(img_data), axis=1)"
      ],
      "execution_count": null,
      "outputs": []
    },
    {
      "cell_type": "code",
      "metadata": {
        "id": "PtSDuCDVPTYB",
        "colab": {
          "base_uri": "https://localhost:8080/"
        },
        "outputId": "ba417d1f-d163-4ba2-e9ac-cccd6f8d1956"
      },
      "source": [
        "if(a==1):\n",
        "    print(\"Uninfected\")\n",
        "else:\n",
        "    print(\"Infected\")"
      ],
      "execution_count": null,
      "outputs": [
        {
          "output_type": "stream",
          "name": "stdout",
          "text": [
            "Uninfected\n"
          ]
        }
      ]
    },
    {
      "cell_type": "code",
      "metadata": {
        "id": "o_6RzpizPTYB"
      },
      "source": [
        ""
      ],
      "execution_count": null,
      "outputs": []
    },
    {
      "cell_type": "code",
      "metadata": {
        "id": "Djm3q__rPTYB"
      },
      "source": [
        ""
      ],
      "execution_count": null,
      "outputs": []
    }
  ]
}